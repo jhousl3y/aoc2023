{
 "cells": [
  {
   "cell_type": "markdown",
   "id": "7700a16a-1bc1-4368-9957-1d7dd67884f9",
   "metadata": {
    "tags": []
   },
   "source": [
    "### Advent of Code 2023\n",
    "Joe Housley"
   ]
  },
  {
   "cell_type": "markdown",
   "id": "b024cbfb-4a3b-4cf0-b307-968c6f9c3a05",
   "metadata": {},
   "source": [
    "## Day 1 - Trebuchet"
   ]
  },
  {
   "cell_type": "code",
   "execution_count": 1,
   "id": "74726bb0-914d-4966-bc07-e62e4faa666b",
   "metadata": {},
   "outputs": [],
   "source": [
    "with open('input1.txt', 'r') as f:\n",
    "    input = f.readlines()"
   ]
  },
  {
   "cell_type": "code",
   "execution_count": 2,
   "id": "e33baddf-15a0-409b-8308-436e95c0ceb9",
   "metadata": {},
   "outputs": [],
   "source": [
    "number_dict = {'one':'1', 'two':'2', 'three':'3', 'four':'4', 'five':'5', 'six':'6', 'seven':'7', 'eight':'8', 'nine':'9'}"
   ]
  },
  {
   "cell_type": "code",
   "execution_count": 3,
   "id": "72d2512b-8a9b-474c-b9eb-25fd2f4222cc",
   "metadata": {},
   "outputs": [],
   "source": [
    "def get_first_number(x):\n",
    "    # check for a string number starting at the beginning of the string. Return the string with the number replaced. If there is no number then return null\n",
    "    for i in range(1,len(x)+1):\n",
    "        if x[i-1].isnumeric():\n",
    "            return x[i-1]\n",
    "        try:\n",
    "            # look at the first i characters of the string\n",
    "            old_line = x[:i]\n",
    "            # if it contains a number\n",
    "            for key in number_dict.keys():\n",
    "                # then replace it\n",
    "                new_line = old_line.replace(key,number_dict[key], 1)\n",
    "                if new_line != old_line:\n",
    "                    return number_dict[key]\n",
    "            #otherwise loop and search again with one additional character\n",
    "        except:\n",
    "            print(\"Error Error\")\n",
    "    return -1"
   ]
  },
  {
   "cell_type": "code",
   "execution_count": 4,
   "id": "8f8077a1-9d7c-482e-9dba-d095b0982c6a",
   "metadata": {},
   "outputs": [],
   "source": [
    "def get_last_number(x):\n",
    "    # check for a string number starting at the end of the string. Return the string with the number replaced. If there is no number then return null\n",
    "    for i in reversed(range(len(x))):\n",
    "        if x[i].isnumeric():\n",
    "            return x[i]\n",
    "        try:\n",
    "            # look at the last i characters of the string\n",
    "            old_line = x[i:]\n",
    "            # if it contains a number\n",
    "            for key in number_dict.keys():\n",
    "                # then replace it\n",
    "                new_line = old_line.replace(key,number_dict[key])\n",
    "                if new_line != old_line:\n",
    "                    return number_dict[key]\n",
    "            #otherwise loop and search again with one additional character\n",
    "        except:\n",
    "            print(\"Error Error\")\n",
    "    return -1"
   ]
  },
  {
   "cell_type": "code",
   "execution_count": 5,
   "id": "b01a1941-936b-4fa0-aa5c-bb04eaf1ea36",
   "metadata": {},
   "outputs": [
    {
     "name": "stdout",
     "output_type": "stream",
     "text": [
      "54249\n"
     ]
    }
   ],
   "source": [
    "total_sum = 0\n",
    "for line in input:\n",
    "    #forwards\n",
    "    first = get_first_number(line)\n",
    "    #backwards\n",
    "    second = get_last_number(line)\n",
    "    number = first + second\n",
    "    total_sum += int(number)\n",
    "print(total_sum)\n",
    "            "
   ]
  },
  {
   "cell_type": "markdown",
   "id": "4a356ca7-7d08-4cc9-ae21-4a11f8603e7b",
   "metadata": {},
   "source": [
    "## Day 2 - Cubes"
   ]
  },
  {
   "cell_type": "code",
   "execution_count": 1,
   "id": "de33dece-6e50-4b09-95e2-205ad66b4b4e",
   "metadata": {},
   "outputs": [],
   "source": [
    "import pandas as pd\n",
    "import re"
   ]
  },
  {
   "cell_type": "code",
   "execution_count": 2,
   "id": "69fc9eae-4b0e-4777-9160-22de2c62bb5c",
   "metadata": {},
   "outputs": [],
   "source": [
    "with open('input2.txt', 'r') as f:\n",
    "    lines = f.readlines()\n",
    "\n",
    "# Game 1: 1 green, 1 blue, 1 red; 3 green, 1 blue, 1 red; 4 green, 3 blue, 1 red; 4 green, 2 blue, 1 red; 3 blue, 3 green\n",
    "game_ids = []\n",
    "all_results = []\n",
    "for line in lines:\n",
    "    round_results = []\n",
    "    # extract the game ID\n",
    "    game_id = int(re.search(r'^Game ([0-9]+): ', line).group(1))\n",
    "    game_ids.append(game_id)\n",
    "    # extract the results\n",
    "    rounds = line.split(';')\n",
    "    rounds[0] = rounds[0].split(':')[1]\n",
    "    for x in rounds:\n",
    "        color_number_dict = {'green':0 , 'blue':0, 'red':0}\n",
    "        results = x.split(',')\n",
    "        for result in results:\n",
    "            match = re.search('([0-9]+) ([a-z]+)', result)\n",
    "            color = match.group(2)\n",
    "            number = int(match.group(1))\n",
    "            color_number_dict[color] = number\n",
    "        round_results.append(color_number_dict)\n",
    "    all_results.append(round_results)"
   ]
  },
  {
   "cell_type": "code",
   "execution_count": 3,
   "id": "95111a8c-3e4a-4561-9c40-19a0c58f70dc",
   "metadata": {},
   "outputs": [],
   "source": [
    "data = {'game_id':game_ids, 'results':all_results}\n",
    "df = pd.DataFrame(data)\n",
    "df = df.explode('results')\n",
    "df2 = pd.json_normalize(df['results'])\n",
    "df = df.reset_index()\n",
    "df = df.join(df2)\n",
    "df = df[['game_id','green','blue','red']]"
   ]
  },
  {
   "cell_type": "code",
   "execution_count": 4,
   "id": "923a5635-0a90-4c3b-87b2-c32b525987ea",
   "metadata": {},
   "outputs": [
    {
     "data": {
      "text/plain": [
       "2377"
      ]
     },
     "execution_count": 4,
     "metadata": {},
     "output_type": "execute_result"
    }
   ],
   "source": [
    "# The Elf would first like to know which games would have been possible if the bag contained only 12 red cubes, 13 green cubes, and 14 blue cubes?\n",
    "# red 12\n",
    "# green 13\n",
    "# blue 14\n",
    "\n",
    "# filter the df to match the criteria\n",
    "filtered_df = df[(df['red'] > 12) | (df['blue'] > 14) | (df['green'] > 13)]\n",
    "bad_games = set(filtered_df['game_id'].unique())\n",
    "possible_games = set(range(1,101)) - bad_games\n",
    "sum(possible_games)"
   ]
  },
  {
   "cell_type": "code",
   "execution_count": 5,
   "id": "d92ab9f9-378a-44df-83dc-08fee16a25b4",
   "metadata": {},
   "outputs": [
    {
     "data": {
      "text/plain": [
       "71220"
      ]
     },
     "execution_count": 5,
     "metadata": {},
     "output_type": "execute_result"
    }
   ],
   "source": [
    "powers = []\n",
    "for i in range(1,101):\n",
    "    game_df = df[df['game_id'] == i]\n",
    "    min_green = game_df['green'].max()\n",
    "    min_blue = game_df['blue'].max()\n",
    "    min_red = game_df['red'].max()\n",
    "    powers.append(min_green * min_blue * min_red)\n",
    "    \n",
    "sum(powers)"
   ]
  },
  {
   "cell_type": "markdown",
   "id": "93beaee3-5ff4-4c27-83dc-61d620e546b5",
   "metadata": {},
   "source": [
    "## Day 3 - Gondola"
   ]
  },
  {
   "cell_type": "code",
   "execution_count": 80,
   "id": "9a8cec51-d1fd-41ed-b3fa-6c25ced2f189",
   "metadata": {},
   "outputs": [],
   "source": [
    "with open('input3.txt','r') as file:\n",
    "    schematic = file.readlines()"
   ]
  },
  {
   "cell_type": "code",
   "execution_count": 76,
   "id": "7ba24bf2-d25e-47c7-bd2c-975b6ba104f5",
   "metadata": {},
   "outputs": [],
   "source": [
    "schematic =  [\"..........\",\n",
    "              \".........1\",\n",
    "              \"..........\\n\"]"
   ]
  },
  {
   "cell_type": "code",
   "execution_count": 73,
   "id": "ed7f5677-762a-4b9d-98c0-49e4c34cb0f1",
   "metadata": {},
   "outputs": [],
   "source": [
    "def is_symbol(x):\n",
    "    if x.isnumeric():\n",
    "        return False\n",
    "    if x == '.':\n",
    "        return False\n",
    "    return True"
   ]
  },
  {
   "cell_type": "code",
   "execution_count": 85,
   "id": "674b97e1-6b02-4b76-b176-0cf1e8f5dc42",
   "metadata": {},
   "outputs": [
    {
     "name": "stdout",
     "output_type": "stream",
     "text": [
      "529618 334781\n"
     ]
    }
   ],
   "source": [
    "total_sum = 0\n",
    "part_numbers = set()\n",
    "gears = dict()\n",
    "for i in range(len(schematic)):\n",
    "    line = schematic[i].strip()\n",
    "    j = 0\n",
    "    while j < len(line):\n",
    "        # search for a number\n",
    "        if line[j].isnumeric():\n",
    "            number = line[j]\n",
    "            # find the length of the number\n",
    "            for k in range(j+1,len(line)):\n",
    "                if line[k].isnumeric():\n",
    "                    number += line[k]\n",
    "                else:\n",
    "                    break\n",
    "            # HERE WE HAVE FOUND THE WHOLE NUMBER\n",
    "            # NOW SEARCH FOR AN ADJACENT SYMBOL\n",
    "            is_adjacent = False\n",
    "            try:\n",
    "                if j > 0 and is_symbol(line[j-1]): # look left\n",
    "                    is_adjacent = True\n",
    "                    if line[j-1] == \"*\": # if its a gear\n",
    "                        location = (i,j-1)\n",
    "                        if location in gears.keys():\n",
    "                            gears[location].append(number)\n",
    "                        else:\n",
    "                            gears[location] = [number]\n",
    "                if j+len(number) < len(line) and is_symbol(line[j+len(number)]): # look right\n",
    "                    is_adjacent = True\n",
    "                    if line[j+len(number)] == \"*\": # if its a gear\n",
    "                        location = (i,j+len(number))\n",
    "                        if location in gears.keys():\n",
    "                            gears[location].append(number)\n",
    "                        else:\n",
    "                            gears[location] = [number]\n",
    "                if i != 0: # look above\n",
    "                    temp_line = schematic[i-1].strip()\n",
    "                    for k in range(j-1,j+len(number)+1):\n",
    "                        if k >= 0 and k < len(temp_line) and is_symbol(temp_line[k]):\n",
    "                            is_adjacent=True\n",
    "                            if temp_line[k] == \"*\": # if its a gear\n",
    "                                location = (i-1,k)\n",
    "                                if location in gears.keys():\n",
    "                                    gears[location].append(number)\n",
    "                                else:\n",
    "                                    gears[location] = [number]\n",
    "                if i != len(schematic)-1: # look below\n",
    "                    temp_line = schematic[i+1].strip()\n",
    "                    for k in range(j-1,j+len(number)+1):\n",
    "                        if k >= 0 and k < len(temp_line) and is_symbol(temp_line[k]):\n",
    "                            is_adjacent=True\n",
    "                            if temp_line[k] == \"*\": # if its a gear\n",
    "                                location = (i+1,k)\n",
    "                                if location in gears.keys():\n",
    "                                    gears[location].append(number)\n",
    "                                else:\n",
    "                                    gears[location] = [number]\n",
    "            except IndexError as e:\n",
    "                print(\"everything is working as intended still\")\n",
    "                \n",
    "            if is_adjacent:\n",
    "                total_sum += int(number)\n",
    "                part_numbers.add(int(number))\n",
    "                \n",
    "            # jump j forward\n",
    "            j += len(number)\n",
    "        else:\n",
    "            j += 1\n",
    "print(total_sum, sum(part_numbers))"
   ]
  },
  {
   "cell_type": "code",
   "execution_count": 89,
   "id": "894f1ca6-1ce6-47a0-8865-7ec6bcc83409",
   "metadata": {},
   "outputs": [
    {
     "data": {
      "text/plain": [
       "77509019"
      ]
     },
     "execution_count": 89,
     "metadata": {},
     "output_type": "execute_result"
    }
   ],
   "source": [
    "gear_sum = 0\n",
    "for key,value in gears.items():\n",
    "    if len(value) == 2:\n",
    "        gear_sum += int(value[0])*int(value[1])\n",
    "gear_sum"
   ]
  },
  {
   "cell_type": "markdown",
   "id": "e909ca75-eb82-46d7-9c67-c1b114b57901",
   "metadata": {},
   "source": [
    "## Day 4 - Scratchcards"
   ]
  },
  {
   "cell_type": "code",
   "execution_count": 12,
   "id": "7488c806-b427-4311-8b4e-6cd69c25689f",
   "metadata": {},
   "outputs": [],
   "source": [
    "with open(\"input4.txt\", 'r') as file:\n",
    "    scratchcards = file.readlines()"
   ]
  },
  {
   "cell_type": "code",
   "execution_count": 13,
   "id": "ed535770-8e17-4d79-be67-296f4761dd99",
   "metadata": {
    "tags": []
   },
   "outputs": [],
   "source": [
    "def find_winners(card):\n",
    "    winning_numbers, my_numbers = card.split(\"|\")\n",
    "    winning_numbers = winning_numbers.split(\":\")[1].strip()\n",
    "    winning_numbers = winning_numbers.split()\n",
    "    #print(winning_numbers)\n",
    "    \n",
    "    my_numbers = my_numbers.strip()\n",
    "    my_numbers = my_numbers.split()\n",
    "    #print(my_numbers)\n",
    "    \n",
    "    points_won = 0\n",
    "    for number in my_numbers:\n",
    "        if number in winning_numbers:\n",
    "            points_won += 1\n",
    "    return points_won"
   ]
  },
  {
   "cell_type": "code",
   "execution_count": 14,
   "id": "a580c468-05ba-488c-9415-e4244107299c",
   "metadata": {},
   "outputs": [
    {
     "name": "stdout",
     "output_type": "stream",
     "text": [
      "9236992\n"
     ]
    }
   ],
   "source": [
    "cards_won = dict.fromkeys([num for num in range(len(scratchcards))], 1)\n",
    "    \n",
    "for i,card in enumerate(scratchcards):\n",
    "    \n",
    "    points_won = find_winners(card)\n",
    "    for j in range(points_won):\n",
    "        cards_won[i+j+1] += cards_won[i]\n",
    "    \n",
    "print(sum(cards_won.values()))"
   ]
  },
  {
   "cell_type": "markdown",
   "id": "ef97f96e-fa1a-45bc-a53f-2b69661c0cea",
   "metadata": {},
   "source": [
    "## Day 5 - Gardening"
   ]
  },
  {
   "cell_type": "code",
   "execution_count": 10,
   "id": "ba8e32ae-6bd3-400d-9cfd-e7c682bfa5d1",
   "metadata": {
    "jupyter": {
     "source_hidden": true
    },
    "tags": []
   },
   "outputs": [],
   "source": [
    "import numpy as np\n",
    "import pandas as pd"
   ]
  },
  {
   "cell_type": "code",
   "execution_count": 1,
   "id": "92b57265-fc39-468c-a41f-8e27903cae29",
   "metadata": {
    "jupyter": {
     "source_hidden": true
    },
    "tags": []
   },
   "outputs": [],
   "source": [
    "with open('input5-1.txt', 'r') as file:\n",
    "    almanac = file.readlines()"
   ]
  },
  {
   "cell_type": "code",
   "execution_count": 2,
   "id": "1b840235-5c5c-4121-bd51-b88e1f2487c0",
   "metadata": {
    "tags": []
   },
   "outputs": [],
   "source": [
    "with open('input5.txt', 'r') as file:\n",
    "    almanac = file.readlines()"
   ]
  },
  {
   "cell_type": "code",
   "execution_count": 4,
   "id": "54db308e-0b77-46f5-b4e0-79139f7d0369",
   "metadata": {
    "jupyter": {
     "source_hidden": true
    },
    "tags": []
   },
   "outputs": [],
   "source": [
    "# parse the input\n",
    "curr_line = 0\n",
    "# first line contains the seeds\n",
    "seed_range = [int(seed) for seed in almanac[curr_line].split(':')[1].split()]\n",
    "seeds = []\n",
    "for i in [2*x for x in range(int(len(seed_range)/2))]:\n",
    "    seed_start = seed_range[i]\n",
    "    seed_len = seed_range[i+1]\n",
    "    seeds.append((seed_start, seed_start+seed_len))\n",
    "curr_line += 2\n",
    "# parse the seed_to_soil map\n",
    "if almanac[curr_line].split(':')[0] != \"seed-to-soil map\":\n",
    "    print(\"Expected seed-to-soil map. Got\",almanac[curr_line].split(':')[0])\n",
    "curr_line += 1 # move the cursor to the data\n",
    "seed_to_soil = {} # dict of tuples {seed: (soil, length)}\n",
    "while curr_line < len(almanac):\n",
    "    if almanac[curr_line] == '\\n':\n",
    "        curr_line += 1\n",
    "        break\n",
    "    # destination    source    length\n",
    "    dest, src, length = [int(item) for item in almanac[curr_line].split()]\n",
    "    seed_to_soil[src] = (dest, length)\n",
    "    curr_line += 1\n",
    "    \n",
    "# parse the soil_to_fertilizer map\n",
    "if almanac[curr_line].split(':')[0] != \"soil-to-fertilizer map\":\n",
    "    print(\"Expected soil-to-fertilizer map. Got\",almanac[curr_line].split(':')[0])\n",
    "curr_line += 1 # move the cursor to the data\n",
    "soil_to_fertilizer = {} # dict of tuples {seed: (soil, length)}\n",
    "while curr_line < len(almanac):\n",
    "    if almanac[curr_line] == '\\n':\n",
    "        curr_line += 1\n",
    "        break\n",
    "    # destination    source    length\n",
    "    dest, src, length = [int(item) for item in almanac[curr_line].split()]\n",
    "    soil_to_fertilizer[src] = (dest, length)\n",
    "    curr_line += 1\n",
    "# parse the fertilizer_to_water map\n",
    "if almanac[curr_line].split(':')[0] != \"fertilizer-to-water map\":\n",
    "    print(\"Expected fertlizer-to-water map. Got\",almanac[curr_line].split(':')[0])\n",
    "curr_line += 1 # move the cursor to the data\n",
    "fertilizer_to_water = {} # dict of tuples {seed: (soil, length)}\n",
    "while curr_line < len(almanac):\n",
    "    if almanac[curr_line] == '\\n':\n",
    "        curr_line += 1\n",
    "        break\n",
    "    # destination    source    length\n",
    "    dest, src, length = [int(item) for item in almanac[curr_line].split()]\n",
    "    fertilizer_to_water[src] = (dest, length)\n",
    "    curr_line += 1\n",
    "# parse the water_to_light map\n",
    "if almanac[curr_line].split(':')[0] != \"water-to-light map\":\n",
    "    print(\"Expected water-to-light map. Got\",almanac[curr_line].split(':')[0])\n",
    "curr_line += 1 # move the cursor to the data\n",
    "water_to_light = {} # dict of tuples {seed: (soil, length)}\n",
    "while curr_line < len(almanac):\n",
    "    if almanac[curr_line] == '\\n':\n",
    "        curr_line += 1\n",
    "        break\n",
    "    # destination    source    length\n",
    "    dest, src, length = [int(item) for item in almanac[curr_line].split()]\n",
    "    water_to_light[src] = (dest, length)\n",
    "    curr_line += 1\n",
    "# parse the light_to_temperature map\n",
    "if almanac[curr_line].split(':')[0] != \"light-to-temperature map\":\n",
    "    print(\"Expected light-to-temperature map. Got\",almanac[curr_line].split(':')[0])\n",
    "curr_line += 1 # move the cursor to the data\n",
    "light_to_temperature = {} # dict of tuples {seed: (soil, length)}\n",
    "while curr_line < len(almanac):\n",
    "    if almanac[curr_line] == '\\n':\n",
    "        curr_line += 1\n",
    "        break\n",
    "    # destination    source    length\n",
    "    dest, src, length = [int(item) for item in almanac[curr_line].split()]\n",
    "    light_to_temperature[src] = (dest, length)\n",
    "    curr_line += 1\n",
    "# parse the temperature_to_humidity map\n",
    "if almanac[curr_line].split(':')[0] != \"temperature-to-humidity map\":\n",
    "    print(\"Expected temperature-to-humidity map. Got\",almanac[curr_line].split(':')[0])\n",
    "curr_line += 1 # move the cursor to the data\n",
    "temperature_to_humidity = {} # dict of tuples {seed: (soil, length)}\n",
    "while curr_line < len(almanac):\n",
    "    if almanac[curr_line] == '\\n':\n",
    "        curr_line += 1\n",
    "        break\n",
    "    # destination    source    length\n",
    "    dest, src, length = [int(item) for item in almanac[curr_line].split()]\n",
    "    temperature_to_humidity[src] = (dest, length)\n",
    "    curr_line += 1\n",
    "# parse the humidity_to_location map\n",
    "if almanac[curr_line].split(':')[0] != \"humidity-to-location map\":\n",
    "    print(\"Expected humidity-to-location map. Got\",almanac[curr_line].split(':')[0])\n",
    "curr_line += 1 # move the cursor to the data\n",
    "humidity_to_location = {} # dict of tuples {seed: (soil, length)}\n",
    "while curr_line < len(almanac):\n",
    "    if almanac[curr_line] == '\\n':\n",
    "        curr_line += 1\n",
    "        break\n",
    "    # destination    source    length\n",
    "    dest, src, length = [int(item) for item in almanac[curr_line].split()]\n",
    "    humidity_to_location[src] = (dest, length)\n",
    "    curr_line += 1\n"
   ]
  },
  {
   "cell_type": "code",
   "execution_count": 3,
   "id": "f57ba0a7-7a55-45dd-a219-79d5f210c499",
   "metadata": {
    "jupyter": {
     "source_hidden": true
    },
    "tags": []
   },
   "outputs": [],
   "source": [
    "def lookup_value(src, src_dest_map):\n",
    "    for src_start in src_dest_map.keys():\n",
    "        dest_start, length = src_dest_map[src_start]\n",
    "        if src >= src_start and src < src_start + length:\n",
    "            # figure out how far from the start the seed is\n",
    "            diff = src-src_start\n",
    "            # then go that distance from soil_start\n",
    "            return dest_start + diff\n",
    "    return src"
   ]
  },
  {
   "cell_type": "code",
   "execution_count": 19,
   "id": "08095033-5f23-494c-9e7e-0e93a0788b44",
   "metadata": {
    "collapsed": true,
    "jupyter": {
     "outputs_hidden": true,
     "source_hidden": true
    },
    "tags": []
   },
   "outputs": [
    {
     "name": "stdout",
     "output_type": "stream",
     "text": [
      "(2, 7)\n"
     ]
    },
    {
     "data": {
      "text/plain": [
       "[(0, 1), (3, 7), (2, 5), (3, 5)]"
      ]
     },
     "execution_count": 19,
     "metadata": {},
     "output_type": "execute_result"
    }
   ],
   "source": [
    "def interval_intersect(a,b):\n",
    "    a0,a1 = a\n",
    "    b0,b1 = b\n",
    "    if a1 < b0 or b1 < a0: # does not intersect\n",
    "        return None\n",
    "    else:\n",
    "        return (max(a0,b0), min(a1,b1))\n",
    "print(interval_intersect((0,9),(2,7)))\n",
    "def lookup_value(seed_sections, seed_soil_map):\n",
    "    soil_sections = []\n",
    "    for seed_range in seed_sections:\n",
    "        for seed_start in seed_soil_map.keys():\n",
    "            soil_start, length = seed_soil_map[seed_start]\n",
    "            seed_end = seed_start + length\n",
    "            map_range = (seed_start, seed_end)\n",
    "            intersection = interval_intersect(seed_range, map_range)\n",
    "            if intersection is None:\n",
    "                soil_sections.append(seed_range) # there are no seeds in the almanac\n",
    "            else:\n",
    "                seed_lower = min(seed_start, seed_range[0])\n",
    "                seed_upper = max(seed_end, seed_range[1])\n",
    "                if seed_lower < intersection[0]:\n",
    "                    soil_sections.append((seed_lower,intersection[0])) # add the part of the interval that is not in the almanac\n",
    "                if seed_upper > intersection[0]:\n",
    "                    soil_sections.append((intersection[1], seed_upper)) # add the part of the interval that is not in the almanac\n",
    "                # now add the intersection\n",
    "                # find the offset\n",
    "                offset = intersection[0] - seed_start\n",
    "                # now move the soil by the offset\n",
    "                soil_range = (soil_start + offset, soil_start + length + offset)\n",
    "                soil_sections.append(soil_range)\n",
    "    return list(set(soil_sections))\n",
    "\n",
    "lookup_range([(0,2),(1,3)], {1:(3,4)})\n",
    "        "
   ]
  },
  {
   "cell_type": "code",
   "execution_count": 17,
   "id": "6e53d0c1-27fb-4f92-903d-b1198e9f199a",
   "metadata": {
    "collapsed": true,
    "jupyter": {
     "outputs_hidden": true,
     "source_hidden": true
    },
    "tags": []
   },
   "outputs": [
    {
     "data": {
      "text/plain": [
       "[(1482445116, 1821632509),\n",
       " (3210489476, 3722395312),\n",
       " (42566461, 94415598),\n",
       " (256584102, 636159946),\n",
       " (3040181568, 3180147594),\n",
       " (4018529087, 4135337336),\n",
       " (2887351536, 2976867314),\n",
       " (669731009, 1476619499),\n",
       " (2369242654, 2859166585),\n",
       " (2086168596, 2169059849)]"
      ]
     },
     "execution_count": 17,
     "metadata": {},
     "output_type": "execute_result"
    }
   ],
   "source": [
    "seeds"
   ]
  },
  {
   "cell_type": "code",
   "execution_count": 24,
   "id": "a0a87d90-1399-444b-adc6-e3bcc5d0d393",
   "metadata": {
    "collapsed": true,
    "jupyter": {
     "outputs_hidden": true,
     "source_hidden": true
    },
    "tags": []
   },
   "outputs": [
    {
     "name": "stdout",
     "output_type": "stream",
     "text": [
      "(970847216, 1246226539)\n"
     ]
    }
   ],
   "source": [
    "locations = []\n",
    "for seed in seeds:\n",
    "    # seed -> soil\n",
    "    soil = lookup_value([seed], seed_to_soil)\n",
    "    # soil -> fertilizer\n",
    "    fertilizer = lookup_value(soil, soil_to_fertilizer)\n",
    "    # fertilizer -> water\n",
    "    water = lookup_value(fertilizer, fertilizer_to_water)\n",
    "    # water -> light\n",
    "    light = lookup_value(water, water_to_light)\n",
    "    # light -> temperature\n",
    "    temperature = lookup_value(light, light_to_temperature)\n",
    "    # temperature -> humidity\n",
    "    humidity = lookup_value(temperature, temperature_to_humidity)\n",
    "    # humidity => location    \n",
    "    location = lookup_value(humidity, humidity_to_location)\n",
    "    locations.append(location)\n",
    "    #print(seed,soil,fertilizer,water,light,temperature,humidity,location)\n",
    "lower_loc = [loc[0] for loc in locations]\n",
    "print(min(lower_loc))"
   ]
  },
  {
   "cell_type": "code",
   "execution_count": 3,
   "id": "8e3a419d-1874-4712-8dc0-6c931ee66673",
   "metadata": {
    "jupyter": {
     "source_hidden": true
    },
    "tags": []
   },
   "outputs": [
    {
     "name": "stdout",
     "output_type": "stream",
     "text": [
      "175622908\n",
      "5200543\n"
     ]
    }
   ],
   "source": [
    "import sys\n",
    "import re\n",
    "from collections import defaultdict\n",
    "D = open(\"input5.txt\").read().strip()\n",
    "L = D.split('\\n')\n",
    "\n",
    "parts = D.split('\\n\\n')\n",
    "seed, *others = parts\n",
    "seed = [int(x) for x in seed.split(':')[1].split()]\n",
    "\n",
    "class Function:\n",
    "    def __init__(self, S):\n",
    "        lines = S.split('\\n')[1:] # throw away name\n",
    "        # dst src sz\n",
    "        self.tuples: list[tuple[int,int,int]] = [[int(x) for x in line.split()] for line in lines]\n",
    "        #print(self.tuples)\n",
    "    def apply_one(self, x: int) -> int:\n",
    "        for (dst, src, sz) in self.tuples:\n",
    "            if src<=x<src+sz:\n",
    "                return x+dst-src\n",
    "        return x\n",
    "  \n",
    "    # list of [start, end) ranges\n",
    "    def apply_range(self, R):\n",
    "        A = []\n",
    "        for (dest, src, sz) in self.tuples:\n",
    "            src_end = src+sz\n",
    "            NR = []\n",
    "            while R:\n",
    "                # [st                                     ed)\n",
    "                #          [src       src_end]\n",
    "                # [BEFORE ][INTER            ][AFTER        )\n",
    "                (st,ed) = R.pop()\n",
    "                # (src,sz) might cut (st,ed)\n",
    "                before = (st,min(ed,src))\n",
    "                inter = (max(st, src), min(src_end, ed))\n",
    "                after = (max(src_end, st), ed)\n",
    "                if before[1]>before[0]:\n",
    "                    NR.append(before)\n",
    "                if inter[1]>inter[0]:\n",
    "                    A.append((inter[0]-src+dest, inter[1]-src+dest))\n",
    "                if after[1]>after[0]:\n",
    "                    NR.append(after)\n",
    "            R = NR\n",
    "        return A+R\n",
    "\n",
    "Fs = [Function(s) for s in others]\n",
    "\n",
    "def f(R, o):\n",
    "    A = []\n",
    "    for line in o:\n",
    "        dest,src,sz = [int(x) for x in line.split()]\n",
    "        src_end = src+sz\n",
    "\n",
    "P1 = []\n",
    "for x in seed:\n",
    "    for f in Fs:\n",
    "        x = f.apply_one(x)\n",
    "    P1.append(x)\n",
    "print(min(P1))\n",
    "\n",
    "P2 = []\n",
    "pairs = list(zip(seed[::2], seed[1::2]))\n",
    "for st, sz in pairs:\n",
    "    # inclusive on the left, exclusive on the right\n",
    "    # e.g. [1,3) = [1,2]\n",
    "    # length of [a,b) = b-a\n",
    "    # [a,b) + [b,c) = [a,c)\n",
    "    R = [(st, st+sz)]\n",
    "    for f in Fs:\n",
    "        R = f.apply_range(R)\n",
    "    #print(len(R))\n",
    "    P2.append(min(R)[0])\n",
    "print(min(P2))"
   ]
  },
  {
   "cell_type": "markdown",
   "id": "a7308342-abe3-40ed-85cd-a13fdd7b6f26",
   "metadata": {},
   "source": [
    "## Day 6 - Boat Races"
   ]
  },
  {
   "cell_type": "code",
   "execution_count": 2,
   "id": "3a456cbf-2550-4cde-99dd-b85083916919",
   "metadata": {},
   "outputs": [
    {
     "name": "stdout",
     "output_type": "stream",
     "text": [
      "[('58', '434'), ('81', '1041'), ('96', '2219'), ('76', '1218')]\n"
     ]
    }
   ],
   "source": [
    "with open('input6.txt', 'r') as file:\n",
    "    race_information = file.readlines()\n",
    "\n",
    "times = race_information[0].split(':')[1].strip().split()\n",
    "distances = race_information[1].split(':')[1].strip().split()\n",
    "\n",
    "print([(t,d) for t,d in zip(times,distances)])"
   ]
  },
  {
   "cell_type": "code",
   "execution_count": 3,
   "id": "085357b6-4c3a-482c-b2cc-34422ddabc0d",
   "metadata": {},
   "outputs": [
    {
     "name": "stdout",
     "output_type": "stream",
     "text": [
      "1159152\n"
     ]
    }
   ],
   "source": [
    "def calc_distance_traveled(speed, time_remaining):\n",
    "    return speed * time_remaining\n",
    "\n",
    "records_broken = 1\n",
    "for race_num in range(len(times)):\n",
    "    time = int(times[race_num])\n",
    "    record = int(distances[race_num])\n",
    "    record_breaking = 0\n",
    "    for speed in range(time): # for each discrete time interval\n",
    "        # speed is time passed\n",
    "        time_left = time - speed\n",
    "        distance_traveled = calc_distance_traveled(speed, time_left)\n",
    "        if distance_traveled > record:\n",
    "            record_breaking += 1\n",
    "    records_broken *= record_breaking\n",
    "print(records_broken)"
   ]
  },
  {
   "cell_type": "code",
   "execution_count": 8,
   "id": "627899e2-8c10-4337-8ce1-15a97d242ffb",
   "metadata": {},
   "outputs": [
    {
     "name": "stdout",
     "output_type": "stream",
     "text": [
      "41513103\n"
     ]
    }
   ],
   "source": [
    "time = int(race_information[0].split(':')[1].strip().replace(' ',''))\n",
    "record = int(race_information[1].split(':')[1].strip().replace(' ',''))\n",
    "\n",
    "record_breaking = 0\n",
    "for speed in range(time): # for each discrete time interval\n",
    "    # speed is time passed\n",
    "    time_left = time - speed\n",
    "    distance_traveled = calc_distance_traveled(speed, time_left)\n",
    "    if distance_traveled > record:\n",
    "        record_breaking += 1\n",
    "print(record_breaking)"
   ]
  },
  {
   "cell_type": "markdown",
   "id": "7c4bef86-fa33-47e5-aafc-1278b3725c41",
   "metadata": {},
   "source": [
    "## Day 7 - Camel Cards"
   ]
  },
  {
   "cell_type": "code",
   "execution_count": 1,
   "id": "48a00c34-1650-4787-8d8a-e7547a0de9f4",
   "metadata": {},
   "outputs": [
    {
     "data": {
      "text/html": [
       "<div>\n",
       "<style scoped>\n",
       "    .dataframe tbody tr th:only-of-type {\n",
       "        vertical-align: middle;\n",
       "    }\n",
       "\n",
       "    .dataframe tbody tr th {\n",
       "        vertical-align: top;\n",
       "    }\n",
       "\n",
       "    .dataframe thead th {\n",
       "        text-align: right;\n",
       "    }\n",
       "</style>\n",
       "<table border=\"1\" class=\"dataframe\">\n",
       "  <thead>\n",
       "    <tr style=\"text-align: right;\">\n",
       "      <th></th>\n",
       "      <th>cards</th>\n",
       "      <th>bid</th>\n",
       "      <th>first</th>\n",
       "      <th>second</th>\n",
       "      <th>third</th>\n",
       "      <th>fourth</th>\n",
       "      <th>fifth</th>\n",
       "    </tr>\n",
       "  </thead>\n",
       "  <tbody>\n",
       "    <tr>\n",
       "      <th>0</th>\n",
       "      <td>AJ44J</td>\n",
       "      <td>454</td>\n",
       "      <td>14</td>\n",
       "      <td>0</td>\n",
       "      <td>4</td>\n",
       "      <td>4</td>\n",
       "      <td>0</td>\n",
       "    </tr>\n",
       "    <tr>\n",
       "      <th>1</th>\n",
       "      <td>33848</td>\n",
       "      <td>56</td>\n",
       "      <td>3</td>\n",
       "      <td>3</td>\n",
       "      <td>8</td>\n",
       "      <td>4</td>\n",
       "      <td>8</td>\n",
       "    </tr>\n",
       "    <tr>\n",
       "      <th>2</th>\n",
       "      <td>66366</td>\n",
       "      <td>699</td>\n",
       "      <td>6</td>\n",
       "      <td>6</td>\n",
       "      <td>3</td>\n",
       "      <td>6</td>\n",
       "      <td>6</td>\n",
       "    </tr>\n",
       "    <tr>\n",
       "      <th>3</th>\n",
       "      <td>KQKJK</td>\n",
       "      <td>718</td>\n",
       "      <td>13</td>\n",
       "      <td>12</td>\n",
       "      <td>13</td>\n",
       "      <td>0</td>\n",
       "      <td>13</td>\n",
       "    </tr>\n",
       "    <tr>\n",
       "      <th>4</th>\n",
       "      <td>47767</td>\n",
       "      <td>78</td>\n",
       "      <td>4</td>\n",
       "      <td>7</td>\n",
       "      <td>7</td>\n",
       "      <td>6</td>\n",
       "      <td>7</td>\n",
       "    </tr>\n",
       "    <tr>\n",
       "      <th>...</th>\n",
       "      <td>...</td>\n",
       "      <td>...</td>\n",
       "      <td>...</td>\n",
       "      <td>...</td>\n",
       "      <td>...</td>\n",
       "      <td>...</td>\n",
       "      <td>...</td>\n",
       "    </tr>\n",
       "    <tr>\n",
       "      <th>995</th>\n",
       "      <td>2Q777</td>\n",
       "      <td>972</td>\n",
       "      <td>2</td>\n",
       "      <td>12</td>\n",
       "      <td>7</td>\n",
       "      <td>7</td>\n",
       "      <td>7</td>\n",
       "    </tr>\n",
       "    <tr>\n",
       "      <th>996</th>\n",
       "      <td>J876T</td>\n",
       "      <td>800</td>\n",
       "      <td>0</td>\n",
       "      <td>8</td>\n",
       "      <td>7</td>\n",
       "      <td>6</td>\n",
       "      <td>10</td>\n",
       "    </tr>\n",
       "    <tr>\n",
       "      <th>997</th>\n",
       "      <td>Q5JQQ</td>\n",
       "      <td>656</td>\n",
       "      <td>12</td>\n",
       "      <td>5</td>\n",
       "      <td>0</td>\n",
       "      <td>12</td>\n",
       "      <td>12</td>\n",
       "    </tr>\n",
       "    <tr>\n",
       "      <th>998</th>\n",
       "      <td>JJAJT</td>\n",
       "      <td>817</td>\n",
       "      <td>0</td>\n",
       "      <td>0</td>\n",
       "      <td>14</td>\n",
       "      <td>0</td>\n",
       "      <td>10</td>\n",
       "    </tr>\n",
       "    <tr>\n",
       "      <th>999</th>\n",
       "      <td>9T6T9</td>\n",
       "      <td>615</td>\n",
       "      <td>9</td>\n",
       "      <td>10</td>\n",
       "      <td>6</td>\n",
       "      <td>10</td>\n",
       "      <td>9</td>\n",
       "    </tr>\n",
       "  </tbody>\n",
       "</table>\n",
       "<p>1000 rows × 7 columns</p>\n",
       "</div>"
      ],
      "text/plain": [
       "     cards  bid  first  second  third  fourth  fifth\n",
       "0    AJ44J  454     14       0      4       4      0\n",
       "1    33848   56      3       3      8       4      8\n",
       "2    66366  699      6       6      3       6      6\n",
       "3    KQKJK  718     13      12     13       0     13\n",
       "4    47767   78      4       7      7       6      7\n",
       "..     ...  ...    ...     ...    ...     ...    ...\n",
       "995  2Q777  972      2      12      7       7      7\n",
       "996  J876T  800      0       8      7       6     10\n",
       "997  Q5JQQ  656     12       5      0      12     12\n",
       "998  JJAJT  817      0       0     14       0     10\n",
       "999  9T6T9  615      9      10      6      10      9\n",
       "\n",
       "[1000 rows x 7 columns]"
      ]
     },
     "execution_count": 1,
     "metadata": {},
     "output_type": "execute_result"
    }
   ],
   "source": [
    "import pandas as pd\n",
    "hands = pd.read_csv('input7.txt', ' ', header=None)\n",
    "card_value = {'A':14,'K':13,'Q':12,'J':0,'T':10,'9':9,'8':8,'7':7,'6':6,'5':5,'4':4,'3':3,'2':2}\n",
    "hands.columns = ['cards','bid']\n",
    "hands['first'] = hands['cards'].apply(lambda x: x[0]).map(card_value)\n",
    "hands['second'] = hands['cards'].apply(lambda x: x[1]).map(card_value)\n",
    "hands['third'] = hands['cards'].apply(lambda x: x[2]).map(card_value)\n",
    "hands['fourth'] = hands['cards'].apply(lambda x: x[3]).map(card_value)\n",
    "hands['fifth'] = hands['cards'].apply(lambda x: x[4]).map(card_value)\n",
    "hands"
   ]
  },
  {
   "cell_type": "code",
   "execution_count": 9,
   "id": "40b51a76-4bba-4cae-87a9-d19f330ad93e",
   "metadata": {},
   "outputs": [
    {
     "data": {
      "text/plain": [
       "7"
      ]
     },
     "execution_count": 9,
     "metadata": {},
     "output_type": "execute_result"
    }
   ],
   "source": [
    "# strongest to weakest\n",
    "# 7 Five of a Kind: AAAAA\n",
    "# 6 Four of a Kind: AAKAA\n",
    "# 5 Full House: AAAKK\n",
    "# 4 Three of a Kind: AAAKQ\n",
    "# 3 Two Pair: AAKKQ\n",
    "# 2 One Pair: AAKQJ\n",
    "# 1 High Card AKQJ9\n",
    "def rank_key(hand):\n",
    "    # five of a kind\n",
    "    first,second,third,fourth,fifth = hand\n",
    "    card_count = dict.fromkeys(['A','K','Q','T','9','8','7','6','5','4','3','2'],0)\n",
    "    for card in hand:\n",
    "        if card == 'J':\n",
    "            return 0\n",
    "        card_count[card] += 1\n",
    "    if 5 in card_count.values(): # five of a kind\n",
    "        return 7\n",
    "    if 4 in card_count.values(): # four of a kind\n",
    "        return 6\n",
    "    if 3 in card_count.values():\n",
    "        if 2 in card_count.values():\n",
    "            return 5\n",
    "        else:\n",
    "            return 4\n",
    "    if 2 in card_count.values():\n",
    "        vals = list(card_count.values())\n",
    "        vals.remove(2)\n",
    "        if 2 in vals:\n",
    "            return 3\n",
    "        else:\n",
    "            return 2\n",
    "    return 1\n",
    "\n",
    "def joker_rank(hand):\n",
    "    # Assuming J is a wildcard, find the best score for this hand\n",
    "    cards = ['A','K','Q','T','9','8','7','6','5','4','3','2']\n",
    "    if 'J' in hand:\n",
    "        return max([joker_rank(hand.replace('J', c, 1)) for c in cards])\n",
    "    return rank_key(hand)\n",
    "\n",
    "joker_rank('AAAAJ')"
   ]
  },
  {
   "cell_type": "code",
   "execution_count": 10,
   "id": "eea273aa-088b-4236-9250-af339b2fa061",
   "metadata": {},
   "outputs": [
    {
     "data": {
      "text/html": [
       "<div>\n",
       "<style scoped>\n",
       "    .dataframe tbody tr th:only-of-type {\n",
       "        vertical-align: middle;\n",
       "    }\n",
       "\n",
       "    .dataframe tbody tr th {\n",
       "        vertical-align: top;\n",
       "    }\n",
       "\n",
       "    .dataframe thead th {\n",
       "        text-align: right;\n",
       "    }\n",
       "</style>\n",
       "<table border=\"1\" class=\"dataframe\">\n",
       "  <thead>\n",
       "    <tr style=\"text-align: right;\">\n",
       "      <th></th>\n",
       "      <th>level_0</th>\n",
       "      <th>index</th>\n",
       "      <th>cards</th>\n",
       "      <th>bid</th>\n",
       "      <th>first</th>\n",
       "      <th>second</th>\n",
       "      <th>third</th>\n",
       "      <th>fourth</th>\n",
       "      <th>fifth</th>\n",
       "      <th>value</th>\n",
       "      <th>winnings</th>\n",
       "    </tr>\n",
       "  </thead>\n",
       "  <tbody>\n",
       "    <tr>\n",
       "      <th>1</th>\n",
       "      <td>339</td>\n",
       "      <td>211</td>\n",
       "      <td>246Q3</td>\n",
       "      <td>276</td>\n",
       "      <td>2</td>\n",
       "      <td>4</td>\n",
       "      <td>6</td>\n",
       "      <td>12</td>\n",
       "      <td>3</td>\n",
       "      <td>1</td>\n",
       "      <td>276</td>\n",
       "    </tr>\n",
       "    <tr>\n",
       "      <th>2</th>\n",
       "      <td>340</td>\n",
       "      <td>388</td>\n",
       "      <td>25673</td>\n",
       "      <td>334</td>\n",
       "      <td>2</td>\n",
       "      <td>5</td>\n",
       "      <td>6</td>\n",
       "      <td>7</td>\n",
       "      <td>3</td>\n",
       "      <td>1</td>\n",
       "      <td>668</td>\n",
       "    </tr>\n",
       "    <tr>\n",
       "      <th>3</th>\n",
       "      <td>341</td>\n",
       "      <td>691</td>\n",
       "      <td>257T9</td>\n",
       "      <td>533</td>\n",
       "      <td>2</td>\n",
       "      <td>5</td>\n",
       "      <td>7</td>\n",
       "      <td>10</td>\n",
       "      <td>9</td>\n",
       "      <td>1</td>\n",
       "      <td>1599</td>\n",
       "    </tr>\n",
       "    <tr>\n",
       "      <th>4</th>\n",
       "      <td>342</td>\n",
       "      <td>840</td>\n",
       "      <td>25QT4</td>\n",
       "      <td>564</td>\n",
       "      <td>2</td>\n",
       "      <td>5</td>\n",
       "      <td>12</td>\n",
       "      <td>10</td>\n",
       "      <td>4</td>\n",
       "      <td>1</td>\n",
       "      <td>2256</td>\n",
       "    </tr>\n",
       "    <tr>\n",
       "      <th>5</th>\n",
       "      <td>343</td>\n",
       "      <td>620</td>\n",
       "      <td>2835A</td>\n",
       "      <td>869</td>\n",
       "      <td>2</td>\n",
       "      <td>8</td>\n",
       "      <td>3</td>\n",
       "      <td>5</td>\n",
       "      <td>14</td>\n",
       "      <td>1</td>\n",
       "      <td>4345</td>\n",
       "    </tr>\n",
       "    <tr>\n",
       "      <th>...</th>\n",
       "      <td>...</td>\n",
       "      <td>...</td>\n",
       "      <td>...</td>\n",
       "      <td>...</td>\n",
       "      <td>...</td>\n",
       "      <td>...</td>\n",
       "      <td>...</td>\n",
       "      <td>...</td>\n",
       "      <td>...</td>\n",
       "      <td>...</td>\n",
       "      <td>...</td>\n",
       "    </tr>\n",
       "    <tr>\n",
       "      <th>996</th>\n",
       "      <td>265</td>\n",
       "      <td>115</td>\n",
       "      <td>TTJTT</td>\n",
       "      <td>190</td>\n",
       "      <td>10</td>\n",
       "      <td>10</td>\n",
       "      <td>0</td>\n",
       "      <td>10</td>\n",
       "      <td>10</td>\n",
       "      <td>7</td>\n",
       "      <td>189240</td>\n",
       "    </tr>\n",
       "    <tr>\n",
       "      <th>997</th>\n",
       "      <td>266</td>\n",
       "      <td>187</td>\n",
       "      <td>TTTJJ</td>\n",
       "      <td>569</td>\n",
       "      <td>10</td>\n",
       "      <td>10</td>\n",
       "      <td>10</td>\n",
       "      <td>0</td>\n",
       "      <td>0</td>\n",
       "      <td>7</td>\n",
       "      <td>567293</td>\n",
       "    </tr>\n",
       "    <tr>\n",
       "      <th>998</th>\n",
       "      <td>295</td>\n",
       "      <td>12</td>\n",
       "      <td>QQQQJ</td>\n",
       "      <td>387</td>\n",
       "      <td>12</td>\n",
       "      <td>12</td>\n",
       "      <td>12</td>\n",
       "      <td>12</td>\n",
       "      <td>0</td>\n",
       "      <td>7</td>\n",
       "      <td>386226</td>\n",
       "    </tr>\n",
       "    <tr>\n",
       "      <th>999</th>\n",
       "      <td>314</td>\n",
       "      <td>450</td>\n",
       "      <td>KKKJJ</td>\n",
       "      <td>814</td>\n",
       "      <td>13</td>\n",
       "      <td>13</td>\n",
       "      <td>13</td>\n",
       "      <td>0</td>\n",
       "      <td>0</td>\n",
       "      <td>7</td>\n",
       "      <td>813186</td>\n",
       "    </tr>\n",
       "    <tr>\n",
       "      <th>1000</th>\n",
       "      <td>326</td>\n",
       "      <td>472</td>\n",
       "      <td>AJAAA</td>\n",
       "      <td>251</td>\n",
       "      <td>14</td>\n",
       "      <td>0</td>\n",
       "      <td>14</td>\n",
       "      <td>14</td>\n",
       "      <td>14</td>\n",
       "      <td>7</td>\n",
       "      <td>251000</td>\n",
       "    </tr>\n",
       "  </tbody>\n",
       "</table>\n",
       "<p>1000 rows × 11 columns</p>\n",
       "</div>"
      ],
      "text/plain": [
       "      level_0  index  cards  bid  first  second  third  fourth  fifth  value  \\\n",
       "1         339    211  246Q3  276      2       4      6      12      3      1   \n",
       "2         340    388  25673  334      2       5      6       7      3      1   \n",
       "3         341    691  257T9  533      2       5      7      10      9      1   \n",
       "4         342    840  25QT4  564      2       5     12      10      4      1   \n",
       "5         343    620  2835A  869      2       8      3       5     14      1   \n",
       "...       ...    ...    ...  ...    ...     ...    ...     ...    ...    ...   \n",
       "996       265    115  TTJTT  190     10      10      0      10     10      7   \n",
       "997       266    187  TTTJJ  569     10      10     10       0      0      7   \n",
       "998       295     12  QQQQJ  387     12      12     12      12      0      7   \n",
       "999       314    450  KKKJJ  814     13      13     13       0      0      7   \n",
       "1000      326    472  AJAAA  251     14       0     14      14     14      7   \n",
       "\n",
       "      winnings  \n",
       "1          276  \n",
       "2          668  \n",
       "3         1599  \n",
       "4         2256  \n",
       "5         4345  \n",
       "...        ...  \n",
       "996     189240  \n",
       "997     567293  \n",
       "998     386226  \n",
       "999     813186  \n",
       "1000    251000  \n",
       "\n",
       "[1000 rows x 11 columns]"
      ]
     },
     "execution_count": 10,
     "metadata": {},
     "output_type": "execute_result"
    }
   ],
   "source": [
    "hands['value'] = hands['cards'].apply(joker_rank)\n",
    "hands.sort_values(['value','first','second','third','fourth','fifth'], inplace=True)\n",
    "hands = hands.reset_index()\n",
    "hands.index += 1\n",
    "hands['winnings'] = hands.index * hands['bid']\n",
    "hands"
   ]
  },
  {
   "cell_type": "code",
   "execution_count": 11,
   "id": "9c60bfab-4b09-4fdb-8df9-54397ea74708",
   "metadata": {},
   "outputs": [
    {
     "data": {
      "text/plain": [
       "252127335"
      ]
     },
     "execution_count": 11,
     "metadata": {},
     "output_type": "execute_result"
    }
   ],
   "source": [
    "hands['winnings'].sum()"
   ]
  },
  {
   "cell_type": "markdown",
   "id": "300e7a50-abd7-47e9-9001-c71f10aa9a2c",
   "metadata": {},
   "source": [
    "## Day 8"
   ]
  },
  {
   "cell_type": "code",
   "execution_count": null,
   "id": "885355a0-dcb1-4bd9-93c2-79d520a00c2e",
   "metadata": {},
   "outputs": [],
   "source": []
  }
 ],
 "metadata": {
  "environment": {
   "kernel": "python3",
   "name": ".m112",
   "type": "gcloud",
   "uri": "gcr.io/deeplearning-platform-release/:m112"
  },
  "kernelspec": {
   "display_name": "Python 3",
   "language": "python",
   "name": "python3"
  },
  "language_info": {
   "codemirror_mode": {
    "name": "ipython",
    "version": 3
   },
   "file_extension": ".py",
   "mimetype": "text/x-python",
   "name": "python",
   "nbconvert_exporter": "python",
   "pygments_lexer": "ipython3",
   "version": "3.7.12"
  }
 },
 "nbformat": 4,
 "nbformat_minor": 5
}
